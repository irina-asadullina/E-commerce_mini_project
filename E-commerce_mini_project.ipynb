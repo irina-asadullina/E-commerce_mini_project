{
 "cells": [
  {
   "cell_type": "markdown",
   "id": "ea9c5f02-3e2c-4fb7-ad5b-02c123bd82c3",
   "metadata": {},
   "source": [
    "## Задачи на знание SQL для приглашения на стажировку"
   ]
  },
  {
   "cell_type": "markdown",
   "id": "6b63c619-f02b-4183-89be-eb9588259ea8",
   "metadata": {},
   "source": [
    "В проекте 3 задачи. В условии прописана схема данных: таблицы, названия полей, основные и внешние ключи.\n",
    "\n",
    "Таблица 1: Покупатели (buyers) \n",
    "| Ключ |  Наименование поля| Комментарий |\n",
    "|----------|----------|----------|\n",
    "| PK   | buyer_id   |    |\n",
    "|    | name   |    |\n",
    "|     | city  |    |\n",
    "\n",
    "\n",
    " \n",
    " \n",
    "   \n",
    "   \n",
    " \n",
    "Таблица 2: Товары (products)\n",
    "| Ключ |  Наименование поля| Комментарий |\n",
    "|----------|----------|----------|\n",
    "| PK   | product_id  |    |\n",
    "|    | product_name   |   |\n",
    "|     | price   |    |\n",
    " \n",
    "   \n",
    "   \n",
    " \n",
    " \n",
    "Таблица 3: Заказы (orders)\n",
    "| Ключ |  Наименование поля| Комментарий |\n",
    "|----------|----------|----------|\n",
    "| PK   | order_id  |    |\n",
    "|    | order_date   |   |\n",
    "|   FK  | buyer_id   |    |\n",
    "|   PK   | product_id   |    |\n",
    "|     | quantity   |  Количество купленного товара  |\n"
   ]
  },
  {
   "cell_type": "code",
   "execution_count": 1,
   "id": "6d32c7a5-dbff-440f-9907-65c7e28602e8",
   "metadata": {},
   "outputs": [],
   "source": [
    "import pandas as pd\n",
    "import duckdb"
   ]
  },
  {
   "cell_type": "markdown",
   "id": "308a67b6-530e-4af1-b10f-b1a7e020927a",
   "metadata": {},
   "source": [
    "Сгенерируем набор данных с помощью большой языковой модели.\n",
    "Промпт для генерации: «Привет! Сгенерируй мне, пожалуйста, правдоподобные данные: три таблицы в формате csv вот по такой схеме. Пусть уникальных покупателей будет 100, а количество их заказов и количество товаров в них - случайными числами. У каждого пользователя может быть несколько заказов, а в одном заказе может быть несколько товаров. Названия городов могут повторяться, а в самом списке этих городов должна быть Москва. Названия городов нужны только в виду самих названий, без префиксов типа \"г.\". Мне нужны данные за 2023, 2024 и 2025 годы.»\n",
    "\n",
    "Загрузим получившиеся таблицы и прочитаем их."
   ]
  },
  {
   "cell_type": "code",
   "execution_count": 16,
   "id": "e12e6a79-1ddb-4ba5-9295-da66c5487945",
   "metadata": {},
   "outputs": [],
   "source": [
    "buyers = pd.read_csv('buyers.csv')\n",
    "orders = pd.read_csv('orders.csv')\n",
    "products = pd.read_csv('products.csv')"
   ]
  },
  {
   "cell_type": "code",
   "execution_count": 17,
   "id": "7473adc1-932c-46f6-8e77-ec796205f2ee",
   "metadata": {},
   "outputs": [
    {
     "data": {
      "text/html": [
       "<div>\n",
       "<style scoped>\n",
       "    .dataframe tbody tr th:only-of-type {\n",
       "        vertical-align: middle;\n",
       "    }\n",
       "\n",
       "    .dataframe tbody tr th {\n",
       "        vertical-align: top;\n",
       "    }\n",
       "\n",
       "    .dataframe thead th {\n",
       "        text-align: right;\n",
       "    }\n",
       "</style>\n",
       "<table border=\"1\" class=\"dataframe\">\n",
       "  <thead>\n",
       "    <tr style=\"text-align: right;\">\n",
       "      <th></th>\n",
       "      <th>buyer_id</th>\n",
       "      <th>name</th>\n",
       "      <th>city</th>\n",
       "    </tr>\n",
       "  </thead>\n",
       "  <tbody>\n",
       "    <tr>\n",
       "      <th>0</th>\n",
       "      <td>1</td>\n",
       "      <td>Семенова Юлия Вячеславовна</td>\n",
       "      <td>Москва</td>\n",
       "    </tr>\n",
       "    <tr>\n",
       "      <th>1</th>\n",
       "      <td>2</td>\n",
       "      <td>Тит Чеславович Мясников</td>\n",
       "      <td>Санкт-Петербург</td>\n",
       "    </tr>\n",
       "    <tr>\n",
       "      <th>2</th>\n",
       "      <td>3</td>\n",
       "      <td>Харлампий Филиппович Воронов</td>\n",
       "      <td>Казань</td>\n",
       "    </tr>\n",
       "    <tr>\n",
       "      <th>3</th>\n",
       "      <td>4</td>\n",
       "      <td>Силин Касьян Ефимович</td>\n",
       "      <td>Екатеринбург</td>\n",
       "    </tr>\n",
       "    <tr>\n",
       "      <th>4</th>\n",
       "      <td>5</td>\n",
       "      <td>Федорова Октябрина Кирилловна</td>\n",
       "      <td>Новосибирск</td>\n",
       "    </tr>\n",
       "  </tbody>\n",
       "</table>\n",
       "</div>"
      ],
      "text/plain": [
       "   buyer_id                           name             city\n",
       "0         1     Семенова Юлия Вячеславовна           Москва\n",
       "1         2        Тит Чеславович Мясников  Санкт-Петербург\n",
       "2         3   Харлампий Филиппович Воронов           Казань\n",
       "3         4          Силин Касьян Ефимович     Екатеринбург\n",
       "4         5  Федорова Октябрина Кирилловна      Новосибирск"
      ]
     },
     "execution_count": 17,
     "metadata": {},
     "output_type": "execute_result"
    }
   ],
   "source": [
    "buyers.head()"
   ]
  },
  {
   "cell_type": "code",
   "execution_count": 18,
   "id": "1a9fe78a-a311-4396-9505-d15c90e7edd8",
   "metadata": {},
   "outputs": [
    {
     "data": {
      "text/plain": [
       "order_id      object\n",
       "order_date    object\n",
       "buyer_id       int64\n",
       "product_id     int64\n",
       "quantity       int64\n",
       "dtype: object"
      ]
     },
     "execution_count": 18,
     "metadata": {},
     "output_type": "execute_result"
    }
   ],
   "source": [
    "orders.dtypes"
   ]
  },
  {
   "cell_type": "code",
   "execution_count": 19,
   "id": "f5e3bd3a-8974-418a-b997-8906c2db4ba7",
   "metadata": {},
   "outputs": [
    {
     "data": {
      "text/plain": [
       "order_id              object\n",
       "order_date    datetime64[ns]\n",
       "buyer_id               int64\n",
       "product_id             int64\n",
       "quantity               int64\n",
       "dtype: object"
      ]
     },
     "execution_count": 19,
     "metadata": {},
     "output_type": "execute_result"
    }
   ],
   "source": [
    "# поменяем тип колонки с датой на корректный\n",
    "orders['order_date'] = pd.to_datetime(orders['order_date'])\n",
    "orders.dtypes"
   ]
  },
  {
   "cell_type": "code",
   "execution_count": 20,
   "id": "aa203382-9df6-4e07-b275-e2f20ed36e3d",
   "metadata": {},
   "outputs": [
    {
     "data": {
      "text/html": [
       "<div>\n",
       "<style scoped>\n",
       "    .dataframe tbody tr th:only-of-type {\n",
       "        vertical-align: middle;\n",
       "    }\n",
       "\n",
       "    .dataframe tbody tr th {\n",
       "        vertical-align: top;\n",
       "    }\n",
       "\n",
       "    .dataframe thead th {\n",
       "        text-align: right;\n",
       "    }\n",
       "</style>\n",
       "<table border=\"1\" class=\"dataframe\">\n",
       "  <thead>\n",
       "    <tr style=\"text-align: right;\">\n",
       "      <th></th>\n",
       "      <th>order_id</th>\n",
       "      <th>order_date</th>\n",
       "      <th>buyer_id</th>\n",
       "      <th>product_id</th>\n",
       "      <th>quantity</th>\n",
       "    </tr>\n",
       "  </thead>\n",
       "  <tbody>\n",
       "    <tr>\n",
       "      <th>0</th>\n",
       "      <td>71f4e50e-63c1-4d25-8b12-ee4c096e6f5c</td>\n",
       "      <td>2024-04-22</td>\n",
       "      <td>1</td>\n",
       "      <td>46</td>\n",
       "      <td>17</td>\n",
       "    </tr>\n",
       "    <tr>\n",
       "      <th>1</th>\n",
       "      <td>63651035-e594-40ef-bfac-3a49930dd807</td>\n",
       "      <td>2024-03-21</td>\n",
       "      <td>1</td>\n",
       "      <td>47</td>\n",
       "      <td>16</td>\n",
       "    </tr>\n",
       "    <tr>\n",
       "      <th>2</th>\n",
       "      <td>63651035-e594-40ef-bfac-3a49930dd807</td>\n",
       "      <td>2024-03-21</td>\n",
       "      <td>1</td>\n",
       "      <td>14</td>\n",
       "      <td>17</td>\n",
       "    </tr>\n",
       "    <tr>\n",
       "      <th>3</th>\n",
       "      <td>63651035-e594-40ef-bfac-3a49930dd807</td>\n",
       "      <td>2024-03-21</td>\n",
       "      <td>1</td>\n",
       "      <td>13</td>\n",
       "      <td>6</td>\n",
       "    </tr>\n",
       "    <tr>\n",
       "      <th>4</th>\n",
       "      <td>63651035-e594-40ef-bfac-3a49930dd807</td>\n",
       "      <td>2024-03-21</td>\n",
       "      <td>1</td>\n",
       "      <td>44</td>\n",
       "      <td>16</td>\n",
       "    </tr>\n",
       "  </tbody>\n",
       "</table>\n",
       "</div>"
      ],
      "text/plain": [
       "                               order_id order_date  buyer_id  product_id  \\\n",
       "0  71f4e50e-63c1-4d25-8b12-ee4c096e6f5c 2024-04-22         1          46   \n",
       "1  63651035-e594-40ef-bfac-3a49930dd807 2024-03-21         1          47   \n",
       "2  63651035-e594-40ef-bfac-3a49930dd807 2024-03-21         1          14   \n",
       "3  63651035-e594-40ef-bfac-3a49930dd807 2024-03-21         1          13   \n",
       "4  63651035-e594-40ef-bfac-3a49930dd807 2024-03-21         1          44   \n",
       "\n",
       "   quantity  \n",
       "0        17  \n",
       "1        16  \n",
       "2        17  \n",
       "3         6  \n",
       "4        16  "
      ]
     },
     "execution_count": 20,
     "metadata": {},
     "output_type": "execute_result"
    }
   ],
   "source": [
    "orders.head()"
   ]
  },
  {
   "cell_type": "code",
   "execution_count": 29,
   "id": "4df9f753-9306-427a-86f8-c70eeb9f1d7d",
   "metadata": {},
   "outputs": [
    {
     "data": {
      "text/html": [
       "<div>\n",
       "<style scoped>\n",
       "    .dataframe tbody tr th:only-of-type {\n",
       "        vertical-align: middle;\n",
       "    }\n",
       "\n",
       "    .dataframe tbody tr th {\n",
       "        vertical-align: top;\n",
       "    }\n",
       "\n",
       "    .dataframe thead th {\n",
       "        text-align: right;\n",
       "    }\n",
       "</style>\n",
       "<table border=\"1\" class=\"dataframe\">\n",
       "  <thead>\n",
       "    <tr style=\"text-align: right;\">\n",
       "      <th></th>\n",
       "      <th>product_id</th>\n",
       "      <th>product_name</th>\n",
       "      <th>price</th>\n",
       "    </tr>\n",
       "  </thead>\n",
       "  <tbody>\n",
       "    <tr>\n",
       "      <th>0</th>\n",
       "      <td>1</td>\n",
       "      <td>Задрать</td>\n",
       "      <td>326.99</td>\n",
       "    </tr>\n",
       "    <tr>\n",
       "      <th>1</th>\n",
       "      <td>2</td>\n",
       "      <td>Военный</td>\n",
       "      <td>384.22</td>\n",
       "    </tr>\n",
       "    <tr>\n",
       "      <th>2</th>\n",
       "      <td>3</td>\n",
       "      <td>Расстегнуть</td>\n",
       "      <td>809.27</td>\n",
       "    </tr>\n",
       "    <tr>\n",
       "      <th>3</th>\n",
       "      <td>4</td>\n",
       "      <td>Ставить</td>\n",
       "      <td>986.09</td>\n",
       "    </tr>\n",
       "    <tr>\n",
       "      <th>4</th>\n",
       "      <td>5</td>\n",
       "      <td>Белье</td>\n",
       "      <td>964.10</td>\n",
       "    </tr>\n",
       "  </tbody>\n",
       "</table>\n",
       "</div>"
      ],
      "text/plain": [
       "   product_id product_name   price\n",
       "0           1      Задрать  326.99\n",
       "1           2      Военный  384.22\n",
       "2           3  Расстегнуть  809.27\n",
       "3           4      Ставить  986.09\n",
       "4           5        Белье  964.10"
      ]
     },
     "execution_count": 29,
     "metadata": {},
     "output_type": "execute_result"
    }
   ],
   "source": [
    "products.head() # отметим находчивость нейросети в части генерации названий продуктов и имен клиентов и двинемся дальше"
   ]
  },
  {
   "cell_type": "markdown",
   "id": "97e1c569-c032-4525-a7d8-2371a0348c75",
   "metadata": {},
   "source": [
    "### Задание 1: \n",
    "Выведите имя покупателя, совершившего покупок на наибольшую сумму за все время."
   ]
  },
  {
   "cell_type": "code",
   "execution_count": 30,
   "id": "ead58ac5-fdda-4db1-ada8-02958a2f57e1",
   "metadata": {},
   "outputs": [],
   "source": [
    "query_1 = \"\"\"\n",
    "-- решение, если мы точно знаем, что такой покупатель у нас один-единственный\n",
    "SELECT name\n",
    "FROM buyers\n",
    "WHERE buyer_id = (\n",
    "    SELECT buyer_id\n",
    "    FROM (\n",
    "        SELECT buyer_id, SUM(price_total) AS total_sum\n",
    "        FROM (\n",
    "            SELECT buyer_id, quantity * price AS price_total\n",
    "            FROM orders o\n",
    "            LEFT JOIN products p USING (product_id)\n",
    "        ) t1\n",
    "        GROUP BY buyer_id\n",
    "    ) t2\n",
    "    ORDER BY total_sum DESC\n",
    "    LIMIT 1)\n",
    "\"\"\""
   ]
  },
  {
   "cell_type": "code",
   "execution_count": 31,
   "id": "72de20a4-0d93-4c04-a2da-f1f6e51b32ef",
   "metadata": {},
   "outputs": [
    {
     "data": {
      "text/html": [
       "<div>\n",
       "<style scoped>\n",
       "    .dataframe tbody tr th:only-of-type {\n",
       "        vertical-align: middle;\n",
       "    }\n",
       "\n",
       "    .dataframe tbody tr th {\n",
       "        vertical-align: top;\n",
       "    }\n",
       "\n",
       "    .dataframe thead th {\n",
       "        text-align: right;\n",
       "    }\n",
       "</style>\n",
       "<table border=\"1\" class=\"dataframe\">\n",
       "  <thead>\n",
       "    <tr style=\"text-align: right;\">\n",
       "      <th></th>\n",
       "      <th>name</th>\n",
       "    </tr>\n",
       "  </thead>\n",
       "  <tbody>\n",
       "    <tr>\n",
       "      <th>0</th>\n",
       "      <td>Медведев Эрнест Бориславович</td>\n",
       "    </tr>\n",
       "  </tbody>\n",
       "</table>\n",
       "</div>"
      ],
      "text/plain": [
       "                           name\n",
       "0  Медведев Эрнест Бориславович"
      ]
     },
     "metadata": {},
     "output_type": "display_data"
    }
   ],
   "source": [
    "result_1 = duckdb.query(query_1).to_df()\n",
    "display(result_1)"
   ]
  },
  {
   "cell_type": "code",
   "execution_count": 32,
   "id": "ed2472ba-f3de-4e80-805a-3af5b7b528b2",
   "metadata": {},
   "outputs": [],
   "source": [
    "query_1_alt = \"\"\"\n",
    "-- решение для нескольких покупателей с максимальной суммой покупок\n",
    "WITH max_sum_byuyer_id AS \n",
    "(\n",
    "SELECT buyer_id\n",
    "FROM (SELECT buyer_id, SUM(price_total) AS total_sum\n",
    "      FROM (SELECT buyer_id, quantity * price AS price_total\n",
    "            FROM orders o\n",
    "            LEFT JOIN products p USING (product_id)) t1\n",
    "       GROUP BY buyer_id) t2\n",
    "WHERE total_sum = (SELECT MAX(total_sum) \n",
    "                   FROM (SELECT buyer_id, SUM(price_total) AS total_sum\n",
    "                         FROM (SELECT buyer_id, quantity * price AS price_total\n",
    "                               FROM orders o\n",
    "                               LEFT JOIN products p USING (product_id)) t1\n",
    "                         GROUP BY buyer_id) t2)\n",
    ")\n",
    "\n",
    "SELECT name\n",
    "FROM buyers\n",
    "WHERE buyer_id = (SELECT buyer_id FROM max_sum_byuyer_id)\n",
    "\"\"\""
   ]
  },
  {
   "cell_type": "code",
   "execution_count": 33,
   "id": "cb38d9ab-0d09-4734-85fa-56fe216df7d9",
   "metadata": {},
   "outputs": [
    {
     "data": {
      "text/html": [
       "<div>\n",
       "<style scoped>\n",
       "    .dataframe tbody tr th:only-of-type {\n",
       "        vertical-align: middle;\n",
       "    }\n",
       "\n",
       "    .dataframe tbody tr th {\n",
       "        vertical-align: top;\n",
       "    }\n",
       "\n",
       "    .dataframe thead th {\n",
       "        text-align: right;\n",
       "    }\n",
       "</style>\n",
       "<table border=\"1\" class=\"dataframe\">\n",
       "  <thead>\n",
       "    <tr style=\"text-align: right;\">\n",
       "      <th></th>\n",
       "      <th>name</th>\n",
       "    </tr>\n",
       "  </thead>\n",
       "  <tbody>\n",
       "    <tr>\n",
       "      <th>0</th>\n",
       "      <td>Медведев Эрнест Бориславович</td>\n",
       "    </tr>\n",
       "  </tbody>\n",
       "</table>\n",
       "</div>"
      ],
      "text/plain": [
       "                           name\n",
       "0  Медведев Эрнест Бориславович"
      ]
     },
     "metadata": {},
     "output_type": "display_data"
    }
   ],
   "source": [
    "result = duckdb.query(query_1_alt).to_df()\n",
    "display(result)"
   ]
  },
  {
   "cell_type": "markdown",
   "id": "8f0165f0-e0ba-4ec7-9926-857b4be5a136",
   "metadata": {},
   "source": [
    "### Задача 2:\n",
    "Выведите наименование товара, который ни разу не был куплен в 2023 году."
   ]
  },
  {
   "cell_type": "code",
   "execution_count": 34,
   "id": "eb8287ab-9584-41ab-894f-b947adb253dd",
   "metadata": {},
   "outputs": [],
   "source": [
    "query_2 = \"\"\"\n",
    "\n",
    "SELECT product_name\n",
    "FROM products\n",
    "WHERE product_id NOT IN (SELECT product_id\n",
    "                        FROM orders\n",
    "                        WHERE DATE_PART('year', order_date) = 2023) \n",
    "\"\"\""
   ]
  },
  {
   "cell_type": "code",
   "execution_count": 35,
   "id": "3cecda7f-36b1-4cd9-9d9d-84c19d69f71a",
   "metadata": {},
   "outputs": [
    {
     "data": {
      "text/html": [
       "<div>\n",
       "<style scoped>\n",
       "    .dataframe tbody tr th:only-of-type {\n",
       "        vertical-align: middle;\n",
       "    }\n",
       "\n",
       "    .dataframe tbody tr th {\n",
       "        vertical-align: top;\n",
       "    }\n",
       "\n",
       "    .dataframe thead th {\n",
       "        text-align: right;\n",
       "    }\n",
       "</style>\n",
       "<table border=\"1\" class=\"dataframe\">\n",
       "  <thead>\n",
       "    <tr style=\"text-align: right;\">\n",
       "      <th></th>\n",
       "      <th>product_name</th>\n",
       "    </tr>\n",
       "  </thead>\n",
       "  <tbody>\n",
       "    <tr>\n",
       "      <th>0</th>\n",
       "      <td>Падать</td>\n",
       "    </tr>\n",
       "    <tr>\n",
       "      <th>1</th>\n",
       "      <td>Адвокат</td>\n",
       "    </tr>\n",
       "    <tr>\n",
       "      <th>2</th>\n",
       "      <td>Команда</td>\n",
       "    </tr>\n",
       "    <tr>\n",
       "      <th>3</th>\n",
       "      <td>Танцевать</td>\n",
       "    </tr>\n",
       "    <tr>\n",
       "      <th>4</th>\n",
       "      <td>Ход</td>\n",
       "    </tr>\n",
       "    <tr>\n",
       "      <th>5</th>\n",
       "      <td>Инвалид</td>\n",
       "    </tr>\n",
       "    <tr>\n",
       "      <th>6</th>\n",
       "      <td>Бровь</td>\n",
       "    </tr>\n",
       "    <tr>\n",
       "      <th>7</th>\n",
       "      <td>Процесс</td>\n",
       "    </tr>\n",
       "    <tr>\n",
       "      <th>8</th>\n",
       "      <td>Еврейский</td>\n",
       "    </tr>\n",
       "    <tr>\n",
       "      <th>9</th>\n",
       "      <td>Механический</td>\n",
       "    </tr>\n",
       "  </tbody>\n",
       "</table>\n",
       "</div>"
      ],
      "text/plain": [
       "   product_name\n",
       "0        Падать\n",
       "1       Адвокат\n",
       "2       Команда\n",
       "3     Танцевать\n",
       "4           Ход\n",
       "5       Инвалид\n",
       "6         Бровь\n",
       "7       Процесс\n",
       "8     Еврейский\n",
       "9  Механический"
      ]
     },
     "metadata": {},
     "output_type": "display_data"
    }
   ],
   "source": [
    "result_2 = duckdb.query(query_2).to_df()\n",
    "display(result_2)"
   ]
  },
  {
   "cell_type": "markdown",
   "id": "bff07eef-a6a9-46c5-bea2-58d1b87d58e9",
   "metadata": {},
   "source": [
    "_Пояснение: так как наши данные могут отличаться от тех, что лежат у ревьюера в базе данных, количество товаров, которые ни разу не были куплены в 2023 году, может отличаться. В условии видим, что нужно вывести название лишь одного проукта, тогда как у нас получилось несколько. Возможно, в БД ревьюера такой продукт достоверно один, поэтому формулировка задания именно такая._"
   ]
  },
  {
   "cell_type": "markdown",
   "id": "cf2f1f1c-a430-4888-afa4-293c3a0fe1a3",
   "metadata": {},
   "source": [
    "### Задание 3:\n",
    "Выведите сумму всех покупок из Москвы за 2024 год."
   ]
  },
  {
   "cell_type": "code",
   "execution_count": 215,
   "id": "b96308d3-207b-4e47-9453-79a733a72dd0",
   "metadata": {},
   "outputs": [],
   "source": [
    "query_3 = \"\"\"\n",
    "SELECT SUM(quantity * price) AS total_revenue_2024\n",
    "FROM orders o \n",
    "LEFT JOIN products p USING(product_id)\n",
    "LEFT JOIN buyers b USING(buyer_id)\n",
    "WHERE DATE_PART('year', order_date) = 2024 AND city = 'Москва'\n",
    "\"\"\""
   ]
  },
  {
   "cell_type": "code",
   "execution_count": 216,
   "id": "2bcbe563-aa43-4def-88b1-1145ea029e82",
   "metadata": {},
   "outputs": [
    {
     "data": {
      "text/html": [
       "<div>\n",
       "<style scoped>\n",
       "    .dataframe tbody tr th:only-of-type {\n",
       "        vertical-align: middle;\n",
       "    }\n",
       "\n",
       "    .dataframe tbody tr th {\n",
       "        vertical-align: top;\n",
       "    }\n",
       "\n",
       "    .dataframe thead th {\n",
       "        text-align: right;\n",
       "    }\n",
       "</style>\n",
       "<table border=\"1\" class=\"dataframe\">\n",
       "  <thead>\n",
       "    <tr style=\"text-align: right;\">\n",
       "      <th></th>\n",
       "      <th>total_revenue_2024</th>\n",
       "    </tr>\n",
       "  </thead>\n",
       "  <tbody>\n",
       "    <tr>\n",
       "      <th>0</th>\n",
       "      <td>1440554.33</td>\n",
       "    </tr>\n",
       "  </tbody>\n",
       "</table>\n",
       "</div>"
      ],
      "text/plain": [
       "   total_revenue_2024\n",
       "0          1440554.33"
      ]
     },
     "metadata": {},
     "output_type": "display_data"
    }
   ],
   "source": [
    "result_3 = duckdb.query(query_3).to_df()\n",
    "display(result_3)"
   ]
  },
  {
   "cell_type": "code",
   "execution_count": null,
   "id": "a9927245-745b-41f9-bd3e-21d5911d7dcb",
   "metadata": {},
   "outputs": [],
   "source": []
  },
  {
   "cell_type": "code",
   "execution_count": null,
   "id": "e675b3e9-5f10-4524-a042-c8ab32642b37",
   "metadata": {},
   "outputs": [],
   "source": []
  },
  {
   "cell_type": "code",
   "execution_count": null,
   "id": "8f2ebb3c-1e6f-4e71-9f7e-03025323051a",
   "metadata": {},
   "outputs": [],
   "source": []
  },
  {
   "cell_type": "code",
   "execution_count": null,
   "id": "b72ecfbb-5ecf-44d2-a342-d78529e82a9f",
   "metadata": {},
   "outputs": [],
   "source": []
  }
 ],
 "metadata": {
  "kernelspec": {
   "display_name": "Python 3 (ipykernel)",
   "language": "python",
   "name": "python3"
  },
  "language_info": {
   "codemirror_mode": {
    "name": "ipython",
    "version": 3
   },
   "file_extension": ".py",
   "mimetype": "text/x-python",
   "name": "python",
   "nbconvert_exporter": "python",
   "pygments_lexer": "ipython3",
   "version": "3.11.0"
  }
 },
 "nbformat": 4,
 "nbformat_minor": 5
}
